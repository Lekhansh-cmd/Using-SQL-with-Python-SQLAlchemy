{
 "cells": [
  {
   "cell_type": "markdown",
   "metadata": {
    "id": "xkYi2YF7iyS-"
   },
   "source": [
    "**Using SQL with Python: SQLAlchemy and Pandas**\n",
    "\n",
    "As a data scientist, you rely on Python for in-depth data analysis, visualization, and modeling. However, when dealing with data stored in a relational database, SQL is essential for extracting and manipulating that data. So, how do you integrate SQL with Python to fully leverage your data's potential?\n",
    "\n",
    "In this tutorial, we'll explore how to combine the strengths of SQL with the versatility of Python using SQLAlchemy and Pandas. We'll cover how to connect to databases, run SQL queries using SQLAlchemy, and then analyze and visualize the data with Pandas. Let's dive in and maximize your data capabilities with Python and SQL!\n",
    "\n"
   ]
  },
  {
   "cell_type": "code",
   "execution_count": 4,
   "metadata": {
    "colab": {
     "base_uri": "https://localhost:8080/"
    },
    "id": "KDl-_DmZjzCQ",
    "outputId": "05e57f62-e253-4f7f-994a-4aee0bcdfecb"
   },
   "outputs": [
    {
     "name": "stdout",
     "output_type": "stream",
     "text": [
      "Requirement already satisfied: SQLAlchemy in c:\\users\\lekhansh\\anaconda3\\lib\\site-packages (2.0.25)\n",
      "Requirement already satisfied: typing-extensions>=4.6.0 in c:\\users\\lekhansh\\anaconda3\\lib\\site-packages (from SQLAlchemy) (4.9.0)\n",
      "Requirement already satisfied: greenlet!=0.4.17 in c:\\users\\lekhansh\\anaconda3\\lib\\site-packages (from SQLAlchemy) (3.0.1)\n",
      "Collecting psycopg2\n",
      "  Downloading psycopg2-2.9.9-cp311-cp311-win_amd64.whl.metadata (4.5 kB)\n",
      "Downloading psycopg2-2.9.9-cp311-cp311-win_amd64.whl (1.2 MB)\n",
      "   ---------------------------------------- 0.0/1.2 MB ? eta -:--:--\n",
      "   ---------------------------------------- 0.0/1.2 MB ? eta -:--:--\n",
      "   - -------------------------------------- 0.0/1.2 MB 495.5 kB/s eta 0:00:03\n",
      "   ---- ----------------------------------- 0.1/1.2 MB 1.2 MB/s eta 0:00:01\n",
      "   --------- ------------------------------ 0.3/1.2 MB 1.8 MB/s eta 0:00:01\n",
      "   ------------- -------------------------- 0.4/1.2 MB 1.9 MB/s eta 0:00:01\n",
      "   ------------------ --------------------- 0.5/1.2 MB 2.2 MB/s eta 0:00:01\n",
      "   ------------------------ --------------- 0.7/1.2 MB 2.4 MB/s eta 0:00:01\n",
      "   ----------------------------- ---------- 0.8/1.2 MB 2.4 MB/s eta 0:00:01\n",
      "   ---------------------------------- ----- 1.0/1.2 MB 2.5 MB/s eta 0:00:01\n",
      "   ---------------------------------------  1.2/1.2 MB 2.6 MB/s eta 0:00:01\n",
      "   ---------------------------------------- 1.2/1.2 MB 2.5 MB/s eta 0:00:00\n",
      "Installing collected packages: psycopg2\n",
      "Successfully installed psycopg2-2.9.9\n"
     ]
    }
   ],
   "source": [
    "#installing sqlalchemy library\n",
    "!pip install SQLAlchemy\n",
    "!pip install psycopg2"
   ]
  },
  {
   "cell_type": "markdown",
   "metadata": {
    "id": "RY_T5cZw1lty"
   },
   "source": [
    "**1. Saving the Pandas DataFrame as an SQL Table**\n",
    "\n",
    "To create the SQL table using the CSV dataset, we will do the following steps:\n",
    "\n",
    "1. Create a SQLite database using the SQLAlchemy.\n",
    "2. Load the CSV dataset \"countries_poluation\" using the Pandas. This dataset consists of the Air Quality Index for all countries in the world from 2017 to 2023.\n",
    "3. Convert all the AQI columns from object to numerical and drop row with missing values.\n",
    "\n",
    "We will use the following libraries for our task:\n",
    "\n",
    "1. SQLAlchemy is the Python SQL toolkit and Object Relational Mapper that gives application developers the full power and flexibility of SQL.\n",
    "2. Psycopg is the most popular PostgreSQL database adapter for the Python programming language"
   ]
  },
  {
   "cell_type": "code",
   "execution_count": 5,
   "metadata": {
    "id": "DKjzffxfj6tu"
   },
   "outputs": [],
   "source": [
    "# Import necessary packages\n",
    "import pandas as pd\n",
    "import psycopg2\n",
    "from sqlalchemy import create_engine"
   ]
  },
  {
   "cell_type": "code",
   "execution_count": 6,
   "metadata": {
    "id": "ZKWSkja42ajn"
   },
   "outputs": [],
   "source": [
    "# creating the new database\n",
    "engine = create_engine(\n",
    "    \"sqlite:///pollution.db\")"
   ]
  },
  {
   "cell_type": "code",
   "execution_count": 7,
   "metadata": {
    "colab": {
     "base_uri": "https://localhost:8080/",
     "height": 373
    },
    "id": "E1CN-vOh25Sx",
    "outputId": "9f52922f-5f87-4b23-b6fd-58bbc331ddae"
   },
   "outputs": [],
   "source": [
    "# read the CSV dataset\n",
    "path = r\"C:\\Users\\Lekhansh\\Downloads\\pollution.csv\"\n",
    "data = pd.read_csv(path)\n",
    "\n",
    "col = ['2017', '2018', '2019', '2020', '2021', '2022', '2023']\n",
    "\n",
    "for s in col:\n",
    "    data[s] = pd.to_numeric(data[s], errors='coerce')\n",
    "\n",
    "    data = data.dropna(subset=[s])"
   ]
  },
  {
   "cell_type": "code",
   "execution_count": 8,
   "metadata": {},
   "outputs": [
    {
     "data": {
      "text/html": [
       "<div>\n",
       "<style scoped>\n",
       "    .dataframe tbody tr th:only-of-type {\n",
       "        vertical-align: middle;\n",
       "    }\n",
       "\n",
       "    .dataframe tbody tr th {\n",
       "        vertical-align: top;\n",
       "    }\n",
       "\n",
       "    .dataframe thead th {\n",
       "        text-align: right;\n",
       "    }\n",
       "</style>\n",
       "<table border=\"1\" class=\"dataframe\">\n",
       "  <thead>\n",
       "    <tr style=\"text-align: right;\">\n",
       "      <th></th>\n",
       "      <th>city</th>\n",
       "      <th>country</th>\n",
       "      <th>2017</th>\n",
       "      <th>2018</th>\n",
       "      <th>2019</th>\n",
       "      <th>2020</th>\n",
       "      <th>2021</th>\n",
       "      <th>2022</th>\n",
       "      <th>2023</th>\n",
       "    </tr>\n",
       "  </thead>\n",
       "  <tbody>\n",
       "    <tr>\n",
       "      <th>0</th>\n",
       "      <td>Kabul</td>\n",
       "      <td>Afghanistan</td>\n",
       "      <td>0.0</td>\n",
       "      <td>61.8</td>\n",
       "      <td>58.8</td>\n",
       "      <td>46.5</td>\n",
       "      <td>37.5</td>\n",
       "      <td>17.1</td>\n",
       "      <td>18.1</td>\n",
       "    </tr>\n",
       "    <tr>\n",
       "      <th>1</th>\n",
       "      <td>Tirana</td>\n",
       "      <td>Albania</td>\n",
       "      <td>0.0</td>\n",
       "      <td>0.0</td>\n",
       "      <td>0.0</td>\n",
       "      <td>16.0</td>\n",
       "      <td>12.5</td>\n",
       "      <td>14.5</td>\n",
       "      <td>14.4</td>\n",
       "    </tr>\n",
       "    <tr>\n",
       "      <th>2</th>\n",
       "      <td>Algiers</td>\n",
       "      <td>Algeria</td>\n",
       "      <td>0.0</td>\n",
       "      <td>0.0</td>\n",
       "      <td>21.2</td>\n",
       "      <td>20.2</td>\n",
       "      <td>20.0</td>\n",
       "      <td>17.8</td>\n",
       "      <td>17.4</td>\n",
       "    </tr>\n",
       "    <tr>\n",
       "      <th>3</th>\n",
       "      <td>Ordino</td>\n",
       "      <td>Andorra</td>\n",
       "      <td>0.0</td>\n",
       "      <td>0.0</td>\n",
       "      <td>0.0</td>\n",
       "      <td>7.4</td>\n",
       "      <td>7.3</td>\n",
       "      <td>5.4</td>\n",
       "      <td>5.3</td>\n",
       "    </tr>\n",
       "    <tr>\n",
       "      <th>4</th>\n",
       "      <td>Luanda</td>\n",
       "      <td>Angola</td>\n",
       "      <td>0.0</td>\n",
       "      <td>0.0</td>\n",
       "      <td>15.9</td>\n",
       "      <td>13.0</td>\n",
       "      <td>11.0</td>\n",
       "      <td>8.8</td>\n",
       "      <td>8.7</td>\n",
       "    </tr>\n",
       "  </tbody>\n",
       "</table>\n",
       "</div>"
      ],
      "text/plain": [
       "      city      country  2017  2018  2019  2020  2021  2022  2023\n",
       "0    Kabul  Afghanistan   0.0  61.8  58.8  46.5  37.5  17.1  18.1\n",
       "1   Tirana      Albania   0.0   0.0   0.0  16.0  12.5  14.5  14.4\n",
       "2  Algiers      Algeria   0.0   0.0  21.2  20.2  20.0  17.8  17.4\n",
       "3   Ordino      Andorra   0.0   0.0   0.0   7.4   7.3   5.4   5.3\n",
       "4   Luanda       Angola   0.0   0.0  15.9  13.0  11.0   8.8   8.7"
      ]
     },
     "execution_count": 8,
     "metadata": {},
     "output_type": "execute_result"
    }
   ],
   "source": [
    "data.head()"
   ]
  },
  {
   "cell_type": "markdown",
   "metadata": {},
   "source": [
    "Save the Pandas dataframe as a SQL table. The `to_sql` function requires a table name and the engine object.  \r\n"
   ]
  },
  {
   "cell_type": "code",
   "execution_count": 9,
   "metadata": {
    "scrolled": true
   },
   "outputs": [
    {
     "data": {
      "text/plain": [
       "6855"
      ]
     },
     "execution_count": 9,
     "metadata": {},
     "output_type": "execute_result"
    }
   ],
   "source": [
    "# save the dataframe as a SQLite table\n",
    "data.to_sql('countries_poluation', engine, if_exists='replace')"
   ]
  },
  {
   "cell_type": "markdown",
   "metadata": {},
   "source": [
    "As a result, your SQLite database is saved in your file directory. "
   ]
  },
  {
   "cell_type": "markdown",
   "metadata": {},
   "source": [
    "**2. Loading the SQL Table using Pandas**\r\n",
    "\r\n",
    "\r\n",
    "To load the entire table from the SQL database as a Pandas d ftaframwe will do the below steps:\n",
    ":\r\n",
    "\r\n",
    "Establish the connection with our database by providing the database\n",
    "\n",
    "Use the `pd.read_sql_table` function to load the entire table and convert it into a Pandas data frame. The function requires table anime, engine objects, and column names.\n",
    "\n",
    "Display the top 10 rows.rows. \r\n"
   ]
  },
  {
   "cell_type": "code",
   "execution_count": 10,
   "metadata": {},
   "outputs": [
    {
     "data": {
      "text/html": [
       "<div>\n",
       "<style scoped>\n",
       "    .dataframe tbody tr th:only-of-type {\n",
       "        vertical-align: middle;\n",
       "    }\n",
       "\n",
       "    .dataframe tbody tr th {\n",
       "        vertical-align: top;\n",
       "    }\n",
       "\n",
       "    .dataframe thead th {\n",
       "        text-align: right;\n",
       "    }\n",
       "</style>\n",
       "<table border=\"1\" class=\"dataframe\">\n",
       "  <thead>\n",
       "    <tr style=\"text-align: right;\">\n",
       "      <th></th>\n",
       "      <th>city</th>\n",
       "      <th>country</th>\n",
       "      <th>2017</th>\n",
       "      <th>2018</th>\n",
       "      <th>2019</th>\n",
       "      <th>2020</th>\n",
       "      <th>2021</th>\n",
       "      <th>2022</th>\n",
       "      <th>2023</th>\n",
       "    </tr>\n",
       "  </thead>\n",
       "  <tbody>\n",
       "    <tr>\n",
       "      <th>0</th>\n",
       "      <td>Kabul</td>\n",
       "      <td>Afghanistan</td>\n",
       "      <td>0.0</td>\n",
       "      <td>61.8</td>\n",
       "      <td>58.8</td>\n",
       "      <td>46.5</td>\n",
       "      <td>37.5</td>\n",
       "      <td>17.1</td>\n",
       "      <td>18.1</td>\n",
       "    </tr>\n",
       "    <tr>\n",
       "      <th>1</th>\n",
       "      <td>Tirana</td>\n",
       "      <td>Albania</td>\n",
       "      <td>0.0</td>\n",
       "      <td>0.0</td>\n",
       "      <td>0.0</td>\n",
       "      <td>16.0</td>\n",
       "      <td>12.5</td>\n",
       "      <td>14.5</td>\n",
       "      <td>14.4</td>\n",
       "    </tr>\n",
       "    <tr>\n",
       "      <th>2</th>\n",
       "      <td>Algiers</td>\n",
       "      <td>Algeria</td>\n",
       "      <td>0.0</td>\n",
       "      <td>0.0</td>\n",
       "      <td>21.2</td>\n",
       "      <td>20.2</td>\n",
       "      <td>20.0</td>\n",
       "      <td>17.8</td>\n",
       "      <td>17.4</td>\n",
       "    </tr>\n",
       "    <tr>\n",
       "      <th>3</th>\n",
       "      <td>Ordino</td>\n",
       "      <td>Andorra</td>\n",
       "      <td>0.0</td>\n",
       "      <td>0.0</td>\n",
       "      <td>0.0</td>\n",
       "      <td>7.4</td>\n",
       "      <td>7.3</td>\n",
       "      <td>5.4</td>\n",
       "      <td>5.3</td>\n",
       "    </tr>\n",
       "    <tr>\n",
       "      <th>4</th>\n",
       "      <td>Luanda</td>\n",
       "      <td>Angola</td>\n",
       "      <td>0.0</td>\n",
       "      <td>0.0</td>\n",
       "      <td>15.9</td>\n",
       "      <td>13.0</td>\n",
       "      <td>11.0</td>\n",
       "      <td>8.8</td>\n",
       "      <td>8.7</td>\n",
       "    </tr>\n",
       "  </tbody>\n",
       "</table>\n",
       "</div>"
      ],
      "text/plain": [
       "      city      country  2017  2018  2019  2020  2021  2022  2023\n",
       "0    Kabul  Afghanistan   0.0  61.8  58.8  46.5  37.5  17.1  18.1\n",
       "1   Tirana      Albania   0.0   0.0   0.0  16.0  12.5  14.5  14.4\n",
       "2  Algiers      Algeria   0.0   0.0  21.2  20.2  20.0  17.8  17.4\n",
       "3   Ordino      Andorra   0.0   0.0   0.0   7.4   7.3   5.4   5.3\n",
       "4   Luanda       Angola   0.0   0.0  15.9  13.0  11.0   8.8   8.7"
      ]
     },
     "execution_count": 10,
     "metadata": {},
     "output_type": "execute_result"
    }
   ],
   "source": [
    "# establish a connection with the database\n",
    "engine = create_engine(\"sqlite:///kdnuggets.db\")\n",
    "\n",
    "# read the sqlite table\n",
    "table_df = pd.read_sql_table(\n",
    "    \"countries_poluation\",\n",
    "    con=engine,\n",
    "    columns=['city', 'country', '2017', '2018', '2019', '2020', '2021', '2022',\n",
    "       '2023']\n",
    ")\n",
    " \n",
    "table_df.head()"
   ]
  },
  {
   "cell_type": "markdown",
   "metadata": {},
   "source": [
    "**3. Running the SQL Query using Pandas**\r\n",
    "\r\n",
    "\r\n",
    "Instead of restricting ourselves to one table, we can access the entire database by using the `pd.read_sql` function. Just write a simple SQL query and provide it with the engine object.\r\n",
    "\r\n",
    "The SQL query will display two columns from the \"countries_population\" table, sort it by the \"2023\" column, and display the top 5 rests.\r\n",
    "\r\n",
    "\r\n"
   ]
  },
  {
   "cell_type": "code",
   "execution_count": 11,
   "metadata": {},
   "outputs": [
    {
     "name": "stdout",
     "output_type": "stream",
     "text": [
      "          city  2023\n",
      "0       Lahore  97.4\n",
      "1        Hotan  95.0\n",
      "2      Bhiwadi  93.3\n",
      "3  Delhi (NCT)  92.7\n",
      "4     Peshawar  91.9\n",
      "5   Faisalabad  91.5\n",
      "6    N'Djamena  91.1\n",
      "7       Asopur  90.4\n",
      "8    New Delhi  89.2\n",
      "9        Patna  89.2\n"
     ]
    }
   ],
   "source": [
    "# selecting top 10 most polluted countries from 2023\n",
    "\n",
    "sql_df = pd.read_sql(\n",
    "    \"SELECT city,[2023] FROM countries_poluation ORDER BY [2023] DESC LIMIT 10\",\n",
    "    con=engine\n",
    ")\n",
    " \n",
    "print(sql_df)"
   ]
  },
  {
   "cell_type": "markdown",
   "metadata": {},
   "source": [
    "**4. Using the SQL Query Result for Analysis and Visualization**\r\n",
    "\r\n",
    "\r\n",
    "We can also use the results from SQL query and perform further analysis. For example, calculate the average of the top five cities using Panda \r\n",
    "\r\n"
   ]
  },
  {
   "cell_type": "code",
   "execution_count": 12,
   "metadata": {},
   "outputs": [
    {
     "name": "stdout",
     "output_type": "stream",
     "text": [
      "The average of top 5 cities: 92.17\n"
     ]
    }
   ],
   "source": [
    "average_air = sql_df['2023'].mean() #mean function is used with sql_df\n",
    "print(f\"The average of top 5 cities: {average_air:.2f}\") #.2f is used for 2 decimal places"
   ]
  },
  {
   "cell_type": "markdown",
   "metadata": {},
   "source": [
    "We can also create a bar plot by specifying the x and y arguments and the type of plot. "
   ]
  },
  {
   "cell_type": "code",
   "execution_count": 13,
   "metadata": {},
   "outputs": [
    {
     "data": {
      "image/png": "[encoded data removed]",
      "text/plain": [
       "<Figure size 640x480 with 1 Axes>"
      ]
     },
     "metadata": {},
     "output_type": "display_data"
    }
   ],
   "source": [
    "sql_df.plot(x=\"city\",y=\"2023\",kind = \"barh\");"
   ]
  },
  {
   "cell_type": "markdown",
   "metadata": {},
   "source": [
    "In this short tutorial, we learned how to load a SQL database into Python, perform data analysis, and create visualizations. If you enjoyed this guide, you will also appreciate 'A Guide to Working with SQLite Databases in Python', which provides an in-depth exploration of using Python's built-in sqlite3 module.\r\n"
   ]
  }
 ],
 "metadata": {
  "colab": {
   "provenance": []
  },
  "kernelspec": {
   "display_name": "Python 3 (ipykernel)",
   "language": "python",
   "name": "python3"
  },
  "language_info": {
   "codemirror_mode": {
    "name": "ipython",
    "version": 3
   },
   "file_extension": ".py",
   "mimetype": "text/x-python",
   "name": "python",
   "nbconvert_exporter": "python",
   "pygments_lexer": "ipython3",
   "version": "3.11.7"
  }
 },
 "nbformat": 4,
 "nbformat_minor": 4
}
